{
 "cells": [
  {
   "cell_type": "markdown",
   "metadata": {},
   "source": [
    "# Exploratory Data Analysis\n",
    "---"
   ]
  },
  {
   "cell_type": "markdown",
   "metadata": {},
   "source": [
    "## Import libraries"
   ]
  },
  {
   "cell_type": "code",
   "execution_count": 105,
   "metadata": {},
   "outputs": [],
   "source": [
    "from pathlib import Path\n",
    "import pandas as pd\n",
    "from torchtext.data import Field, TabularDataset, BucketIterator"
   ]
  },
  {
   "cell_type": "markdown",
   "metadata": {},
   "source": [
    "## Global Constants"
   ]
  },
  {
   "cell_type": "code",
   "execution_count": 106,
   "metadata": {},
   "outputs": [],
   "source": [
    "DATA_DIR = Path(\"../data/mtl-dataset\")\n",
    "DATASETS = ['apparel', 'baby', 'books', 'camera_photo',  'electronics', \n",
    "      'health_personal_care', 'imdb', 'kitchen_housewares', 'magazines', \n",
    "      'music', 'software', 'sports_outdoors', 'toys_games', 'video']\n",
    "BSIZE = 64"
   ]
  },
  {
   "cell_type": "markdown",
   "metadata": {},
   "source": [
    "# Load Data"
   ]
  },
  {
   "cell_type": "code",
   "execution_count": 45,
   "metadata": {},
   "outputs": [
    {
     "data": {
      "text/plain": [
       "'apparel.task.train'"
      ]
     },
     "execution_count": 45,
     "metadata": {},
     "output_type": "execute_result"
    }
   ],
   "source": [
    "dataset_name = DATASETS[0]+\".task.train\"\n",
    "dataset_name"
   ]
  },
  {
   "cell_type": "code",
   "execution_count": 51,
   "metadata": {},
   "outputs": [
    {
     "data": {
      "text/html": [
       "<div>\n",
       "<style scoped>\n",
       "    .dataframe tbody tr th:only-of-type {\n",
       "        vertical-align: middle;\n",
       "    }\n",
       "\n",
       "    .dataframe tbody tr th {\n",
       "        vertical-align: top;\n",
       "    }\n",
       "\n",
       "    .dataframe thead th {\n",
       "        text-align: right;\n",
       "    }\n",
       "</style>\n",
       "<table border=\"1\" class=\"dataframe\">\n",
       "  <thead>\n",
       "    <tr style=\"text-align: right;\">\n",
       "      <th></th>\n",
       "      <th>label</th>\n",
       "      <th>text</th>\n",
       "    </tr>\n",
       "  </thead>\n",
       "  <tbody>\n",
       "    <tr>\n",
       "      <th>0</th>\n",
       "      <td>0</td>\n",
       "      <td>i ordered a pair for my husband and was very d...</td>\n",
       "    </tr>\n",
       "    <tr>\n",
       "      <th>1</th>\n",
       "      <td>1</td>\n",
       "      <td>love hush puppies . they are comfortable and i...</td>\n",
       "    </tr>\n",
       "    <tr>\n",
       "      <th>2</th>\n",
       "      <td>0</td>\n",
       "      <td>i was so excited to find these , they seemed t...</td>\n",
       "    </tr>\n",
       "  </tbody>\n",
       "</table>\n",
       "</div>"
      ],
      "text/plain": [
       "   label                                               text\n",
       "0      0  i ordered a pair for my husband and was very d...\n",
       "1      1  love hush puppies . they are comfortable and i...\n",
       "2      0  i was so excited to find these , they seemed t..."
      ]
     },
     "execution_count": 51,
     "metadata": {},
     "output_type": "execute_result"
    }
   ],
   "source": [
    "df = pd.read_csv(DATA_DIR / dataset_name, sep=\"\\t\", header=None, names=['label', 'text'])\n",
    "df.head(3)"
   ]
  },
  {
   "cell_type": "markdown",
   "metadata": {},
   "source": [
    "## Prepare data"
   ]
  },
  {
   "cell_type": "code",
   "execution_count": 84,
   "metadata": {},
   "outputs": [],
   "source": [
    "def prepare_data(dataset_list, data_dir, devset_fraction=0.):\n",
    "    col_names=['label', 'text']\n",
    "    train_dfs = []\n",
    "    test_dfs = []\n",
    "    for idx, dataset in enumerate(dataset_list):\n",
    "        train_file = dataset+\".task.train\"\n",
    "        test_file = dataset+\".task.test\"\n",
    "        train_df = pd.read_csv(data_dir / train_file, sep=\"\\t\", header=None, names=col_names)\n",
    "        test_df = pd.read_csv(data_dir / test_file, sep=\"\\t\", header=None, names=col_names)\n",
    "        train_df['task_id'] = idx\n",
    "        train_df['task_name'] = dataset\n",
    "        test_df['task_id'] = idx\n",
    "        test_df['task_name'] = dataset\n",
    "        train_dfs.append(train_df)\n",
    "        test_dfs.append(test_df)\n",
    "    # concatenate then shuffle in place\n",
    "    df = pd.concat(train_dfs)\n",
    "    train_dfs = df.sample(frac=1-devset_fraction).reset_index(drop=True)\n",
    "    dev_dfs = df.sample(frac=devset_fraction).reset_index(drop=True)\n",
    "    test_dfs = pd.concat(test_dfs).sample(frac=1).reset_index(drop=True)\n",
    "    train_dfs.to_csv(DATA_DIR / \"train.csv\", index=False)\n",
    "    dev_dfs.to_csv(DATA_DIR / \"dev.csv\", index=False)\n",
    "    test_dfs.to_csv(DATA_DIR / \"test.csv\", index=False)\n",
    "    return train_dfs, dev_dfs, test_dfs "
   ]
  },
  {
   "cell_type": "code",
   "execution_count": 87,
   "metadata": {},
   "outputs": [
    {
     "data": {
      "text/plain": [
       "((17744, 4), (8763, 4), (8981, 4))"
      ]
     },
     "execution_count": 87,
     "metadata": {},
     "output_type": "execute_result"
    }
   ],
   "source": [
    "train_df, dev_df, test_df = prepare_data(dataset_list=DATASETS, data_dir=DATA_DIR, devset_fraction=0.2)"
   ]
  },
  {
   "cell_type": "code",
   "execution_count": 89,
   "metadata": {},
   "outputs": [
    {
     "data": {
      "text/html": [
       "<div>\n",
       "<style scoped>\n",
       "    .dataframe tbody tr th:only-of-type {\n",
       "        vertical-align: middle;\n",
       "    }\n",
       "\n",
       "    .dataframe tbody tr th {\n",
       "        vertical-align: top;\n",
       "    }\n",
       "\n",
       "    .dataframe thead th {\n",
       "        text-align: right;\n",
       "    }\n",
       "</style>\n",
       "<table border=\"1\" class=\"dataframe\">\n",
       "  <thead>\n",
       "    <tr style=\"text-align: right;\">\n",
       "      <th></th>\n",
       "      <th>label</th>\n",
       "      <th>text</th>\n",
       "      <th>task_id</th>\n",
       "      <th>task_name</th>\n",
       "    </tr>\n",
       "  </thead>\n",
       "  <tbody>\n",
       "    <tr>\n",
       "      <th>0</th>\n",
       "      <td>1</td>\n",
       "      <td>when i first got a wireless network at home i ...</td>\n",
       "      <td>4</td>\n",
       "      <td>electronics</td>\n",
       "    </tr>\n",
       "    <tr>\n",
       "      <th>1</th>\n",
       "      <td>1</td>\n",
       "      <td>i 'm a pc mechanic . i have been using ad-awar...</td>\n",
       "      <td>10</td>\n",
       "      <td>software</td>\n",
       "    </tr>\n",
       "    <tr>\n",
       "      <th>2</th>\n",
       "      <td>0</td>\n",
       "      <td>i just wasted $ 16.35 on this piece of junk . ...</td>\n",
       "      <td>4</td>\n",
       "      <td>electronics</td>\n",
       "    </tr>\n",
       "    <tr>\n",
       "      <th>3</th>\n",
       "      <td>0</td>\n",
       "      <td>a director and his crew head out to the isolat...</td>\n",
       "      <td>6</td>\n",
       "      <td>imdb</td>\n",
       "    </tr>\n",
       "    <tr>\n",
       "      <th>4</th>\n",
       "      <td>0</td>\n",
       "      <td>this pillow is soft and sqwishy , but it is to...</td>\n",
       "      <td>5</td>\n",
       "      <td>health_personal_care</td>\n",
       "    </tr>\n",
       "  </tbody>\n",
       "</table>\n",
       "</div>"
      ],
      "text/plain": [
       "   label                                               text  task_id  \\\n",
       "0      1  when i first got a wireless network at home i ...        4   \n",
       "1      1  i 'm a pc mechanic . i have been using ad-awar...       10   \n",
       "2      0  i just wasted $ 16.35 on this piece of junk . ...        4   \n",
       "3      0  a director and his crew head out to the isolat...        6   \n",
       "4      0  this pillow is soft and sqwishy , but it is to...        5   \n",
       "\n",
       "              task_name  \n",
       "0           electronics  \n",
       "1              software  \n",
       "2           electronics  \n",
       "3                  imdb  \n",
       "4  health_personal_care  "
      ]
     },
     "execution_count": 89,
     "metadata": {},
     "output_type": "execute_result"
    }
   ],
   "source": [
    "train_df.head(5)"
   ]
  },
  {
   "cell_type": "code",
   "execution_count": 90,
   "metadata": {},
   "outputs": [
    {
     "data": {
      "text/plain": [
       "((17744, 4), (8763, 4), (8981, 4))"
      ]
     },
     "execution_count": 90,
     "metadata": {},
     "output_type": "execute_result"
    }
   ],
   "source": [
    "train_df.shape, train_df[train_df['label'] == 0].shape, train_df[train_df['label'] == 1].shape"
   ]
  },
  {
   "cell_type": "code",
   "execution_count": 88,
   "metadata": {},
   "outputs": [
    {
     "data": {
      "text/plain": [
       "((4436, 4), (5600, 4))"
      ]
     },
     "execution_count": 88,
     "metadata": {},
     "output_type": "execute_result"
    }
   ],
   "source": [
    "dev_df.shape, test_df.shape"
   ]
  },
  {
   "cell_type": "markdown",
   "metadata": {},
   "source": [
    "## Dataset"
   ]
  },
  {
   "cell_type": "code",
   "execution_count": 92,
   "metadata": {},
   "outputs": [],
   "source": [
    "text_field = Field(sequential=True, tokenize=lambda x: x.split(), lower=True, batch_first=True, include_lengths=True)\n",
    "label_field = Field(sequential=False, use_vocab=False)\n",
    "task_field = Field(sequential=False, use_vocab=False)"
   ]
  },
  {
   "cell_type": "code",
   "execution_count": 93,
   "metadata": {},
   "outputs": [],
   "source": [
    "data_fields = [(\"label\", label_field), (\"text\", text_field), (\"task\", task_field), (\"task_name\", None)]"
   ]
  },
  {
   "cell_type": "code",
   "execution_count": 94,
   "metadata": {},
   "outputs": [],
   "source": [
    "train_set, dev_set, test_set = TabularDataset.splits(path=DATA_DIR, root=DATA_DIR,\n",
    "                                                     train=\"train.csv\", validation=\"dev.csv\", test=\"test.csv\",\n",
    "                                                     fields=data_fields, skip_header=True, format=\"csv\")"
   ]
  },
  {
   "cell_type": "code",
   "execution_count": 95,
   "metadata": {},
   "outputs": [],
   "source": [
    "text_field.build_vocab(train_set)"
   ]
  },
  {
   "cell_type": "code",
   "execution_count": 97,
   "metadata": {},
   "outputs": [
    {
     "data": {
      "text/plain": [
       "[('the', 111346),\n",
       " ('.', 107062),\n",
       " (',', 86076),\n",
       " ('and', 58853),\n",
       " ('i', 54616),\n",
       " ('to', 54061),\n",
       " ('a', 52772),\n",
       " ('it', 44669),\n",
       " ('of', 41774),\n",
       " ('is', 36726)]"
      ]
     },
     "execution_count": 97,
     "metadata": {},
     "output_type": "execute_result"
    }
   ],
   "source": [
    "text_field.vocab.freqs.most_common(10)"
   ]
  },
  {
   "cell_type": "code",
   "execution_count": 102,
   "metadata": {},
   "outputs": [
    {
     "data": {
      "text/plain": [
       "dict_keys(['label', 'text', 'task'])"
      ]
     },
     "execution_count": 102,
     "metadata": {},
     "output_type": "execute_result"
    }
   ],
   "source": [
    "example = train_set[0]\n",
    "example.__dict__.keys()"
   ]
  },
  {
   "cell_type": "code",
   "execution_count": 104,
   "metadata": {},
   "outputs": [
    {
     "name": "stdout",
     "output_type": "stream",
     "text": [
      "when i first got a wireless network at home i purchased a kensington wifi finder . it worked fine . but as time went on i saw these smaller versions come out from chrysalis development . i heard they were more powerful and more versatile . so i bought one . i was not disappointed . since it was about the same size as my keyless entry remote for my car , it fit perfectly on my keychain . also it has a much longer range than the others . but best of all , it is directional . meaning i can simply turn my body while holding down the button and the leds change instantly as the signal strength increases or decreases . what a great product . i love it ! 1 4\n"
     ]
    }
   ],
   "source": [
    "print(\" \".join(example.text), example.label, example.task)"
   ]
  },
  {
   "cell_type": "markdown",
   "metadata": {},
   "source": [
    "## Dataloaders"
   ]
  },
  {
   "cell_type": "code",
   "execution_count": 108,
   "metadata": {},
   "outputs": [],
   "source": [
    "train_iter, dev_iter, test_iter = BucketIterator.splits((train_set, dev_set, test_set),\n",
    "                                                        batch_sizes=(BSIZE, BSIZE*2, BSIZE*2),\n",
    "                                                        sort_within_batch=False,\n",
    "                                                        sort_key=lambda x: len(x.text))"
   ]
  },
  {
   "cell_type": "code",
   "execution_count": 118,
   "metadata": {},
   "outputs": [],
   "source": [
    "batch = next(iter(train_iter))"
   ]
  },
  {
   "cell_type": "code",
   "execution_count": 119,
   "metadata": {},
   "outputs": [
    {
     "data": {
      "text/plain": [
       "\n",
       "[torchtext.data.batch.Batch of size 64]\n",
       "\t[.label]:[torch.LongTensor of size 64]\n",
       "\t[.text]:('[torch.LongTensor of size 64x890]', '[torch.LongTensor of size 64]')\n",
       "\t[.task]:[torch.LongTensor of size 64]"
      ]
     },
     "execution_count": 119,
     "metadata": {},
     "output_type": "execute_result"
    }
   ],
   "source": [
    "batch"
   ]
  },
  {
   "cell_type": "code",
   "execution_count": 120,
   "metadata": {},
   "outputs": [
    {
     "data": {
      "text/plain": [
       "(torch.Size([64, 890]), torch.Size([64]), torch.Size([64]))"
      ]
     },
     "execution_count": 120,
     "metadata": {},
     "output_type": "execute_result"
    }
   ],
   "source": [
    "batch.text[0].shape, batch.task.shape, batch.label.shape"
   ]
  },
  {
   "cell_type": "markdown",
   "metadata": {},
   "source": [
    "# Visualize"
   ]
  },
  {
   "cell_type": "markdown",
   "metadata": {},
   "source": [
    "## Distribution of Tasks"
   ]
  },
  {
   "cell_type": "code",
   "execution_count": 127,
   "metadata": {},
   "outputs": [
    {
     "data": {
      "text/plain": [
       "0     1321\n",
       "9     1319\n",
       "12    1318\n",
       "5     1286\n",
       "2     1283\n",
       "3     1276\n",
       "7     1271\n",
       "6     1271\n",
       "8     1269\n",
       "13    1258\n",
       "4     1258\n",
       "11    1242\n",
       "1     1198\n",
       "10    1174\n",
       "Name: task_id, dtype: int64"
      ]
     },
     "execution_count": 127,
     "metadata": {},
     "output_type": "execute_result"
    }
   ],
   "source": [
    "train_df.task_id.value_counts()"
   ]
  },
  {
   "cell_type": "markdown",
   "metadata": {},
   "source": [
    "## Distribution of Labels"
   ]
  },
  {
   "cell_type": "code",
   "execution_count": 129,
   "metadata": {},
   "outputs": [
    {
     "data": {
      "text/plain": [
       "1    8981\n",
       "0    8763\n",
       "Name: label, dtype: int64"
      ]
     },
     "execution_count": 129,
     "metadata": {},
     "output_type": "execute_result"
    }
   ],
   "source": [
    "train_df.label.value_counts()"
   ]
  },
  {
   "cell_type": "code",
   "execution_count": null,
   "metadata": {},
   "outputs": [],
   "source": []
  }
 ],
 "metadata": {
  "kernelspec": {
   "display_name": "Python [conda env:prod] *",
   "language": "python",
   "name": "conda-env-prod-py"
  },
  "language_info": {
   "codemirror_mode": {
    "name": "ipython",
    "version": 3
   },
   "file_extension": ".py",
   "mimetype": "text/x-python",
   "name": "python",
   "nbconvert_exporter": "python",
   "pygments_lexer": "ipython3",
   "version": "3.7.5"
  }
 },
 "nbformat": 4,
 "nbformat_minor": 4
}
